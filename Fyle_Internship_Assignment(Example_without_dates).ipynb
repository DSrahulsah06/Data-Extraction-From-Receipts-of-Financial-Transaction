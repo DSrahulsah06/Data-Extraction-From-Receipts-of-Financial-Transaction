{
  "nbformat": 4,
  "nbformat_minor": 0,
  "metadata": {
    "colab": {
      "name": "Fyle_Internship_Assignment(Example without dates).ipynb",
      "provenance": [],
      "include_colab_link": true
    },
    "kernelspec": {
      "name": "python3",
      "display_name": "Python 3"
    }
  },
  "cells": [
    {
      "cell_type": "markdown",
      "metadata": {
        "id": "view-in-github",
        "colab_type": "text"
      },
      "source": [
        "<a href=\"https://colab.research.google.com/github/DSrahulsah06/Data-Extraction-From-Receipts-of-Financial-Transaction/blob/master/Fyle_Internship_Assignment(Example_without_dates).ipynb\" target=\"_parent\"><img src=\"https://colab.research.google.com/assets/colab-badge.svg\" alt=\"Open In Colab\"/></a>"
      ]
    },
    {
      "cell_type": "code",
      "metadata": {
        "id": "rmQEeCtzua8w",
        "colab_type": "code",
        "outputId": "75643654-81f2-4f49-e19e-48dcfdb377a4",
        "colab": {
          "base_uri": "https://localhost:8080/",
          "height": 121
        }
      },
      "source": [
        "from google.colab import drive\n",
        "drive.mount ('/content/gdrive')"
      ],
      "execution_count": 1,
      "outputs": [
        {
          "output_type": "stream",
          "text": [
            "Go to this URL in a browser: https://accounts.google.com/o/oauth2/auth?client_id=947318989803-6bn6qk8qdgf4n4g3pfee6491hc0brc4i.apps.googleusercontent.com&redirect_uri=urn%3aietf%3awg%3aoauth%3a2.0%3aoob&response_type=code&scope=email%20https%3a%2f%2fwww.googleapis.com%2fauth%2fdocs.test%20https%3a%2f%2fwww.googleapis.com%2fauth%2fdrive%20https%3a%2f%2fwww.googleapis.com%2fauth%2fdrive.photos.readonly%20https%3a%2f%2fwww.googleapis.com%2fauth%2fpeopleapi.readonly\n",
            "\n",
            "Enter your authorization code:\n",
            "··········\n",
            "Mounted at /content/gdrive\n"
          ],
          "name": "stdout"
        }
      ]
    },
    {
      "cell_type": "markdown",
      "metadata": {
        "id": "FY_EIkA221Sj",
        "colab_type": "text"
      },
      "source": [
        "Data Extraction - Remote Assignment\n",
        "### Expense date (also called spend date) is the exact date on which a financial transaction or operation has happened and must be recognized in the accounting system."
      ]
    },
    {
      "cell_type": "code",
      "metadata": {
        "id": "_2ntv4cp25Qx",
        "colab_type": "code",
        "colab": {
          "base_uri": "https://localhost:8080/",
          "height": 790
        },
        "outputId": "145feb95-07ef-4231-84f4-1e2f8f2d815f"
      },
      "source": [
        "#installing the required packages \n",
        "!sudo apt install tesseract-ocr\n",
        "!pip install pytesseract"
      ],
      "execution_count": 2,
      "outputs": [
        {
          "output_type": "stream",
          "text": [
            "Reading package lists... Done\n",
            "Building dependency tree       \n",
            "Reading state information... Done\n",
            "The following additional packages will be installed:\n",
            "  tesseract-ocr-eng tesseract-ocr-osd\n",
            "The following NEW packages will be installed:\n",
            "  tesseract-ocr tesseract-ocr-eng tesseract-ocr-osd\n",
            "0 upgraded, 3 newly installed, 0 to remove and 29 not upgraded.\n",
            "Need to get 4,795 kB of archives.\n",
            "After this operation, 15.8 MB of additional disk space will be used.\n",
            "Get:1 http://archive.ubuntu.com/ubuntu bionic/universe amd64 tesseract-ocr-eng all 4.00~git24-0e00fe6-1.2 [1,588 kB]\n",
            "Get:2 http://archive.ubuntu.com/ubuntu bionic/universe amd64 tesseract-ocr-osd all 4.00~git24-0e00fe6-1.2 [2,989 kB]\n",
            "Get:3 http://archive.ubuntu.com/ubuntu bionic/universe amd64 tesseract-ocr amd64 4.00~git2288-10f4998a-2 [218 kB]\n",
            "Fetched 4,795 kB in 2s (2,123 kB/s)\n",
            "debconf: unable to initialize frontend: Dialog\n",
            "debconf: (No usable dialog-like program is installed, so the dialog based frontend cannot be used. at /usr/share/perl5/Debconf/FrontEnd/Dialog.pm line 76, <> line 3.)\n",
            "debconf: falling back to frontend: Readline\n",
            "debconf: unable to initialize frontend: Readline\n",
            "debconf: (This frontend requires a controlling tty.)\n",
            "debconf: falling back to frontend: Teletype\n",
            "dpkg-preconfigure: unable to re-open stdin: \n",
            "Selecting previously unselected package tesseract-ocr-eng.\n",
            "(Reading database ... 134923 files and directories currently installed.)\n",
            "Preparing to unpack .../tesseract-ocr-eng_4.00~git24-0e00fe6-1.2_all.deb ...\n",
            "Unpacking tesseract-ocr-eng (4.00~git24-0e00fe6-1.2) ...\n",
            "Selecting previously unselected package tesseract-ocr-osd.\n",
            "Preparing to unpack .../tesseract-ocr-osd_4.00~git24-0e00fe6-1.2_all.deb ...\n",
            "Unpacking tesseract-ocr-osd (4.00~git24-0e00fe6-1.2) ...\n",
            "Selecting previously unselected package tesseract-ocr.\n",
            "Preparing to unpack .../tesseract-ocr_4.00~git2288-10f4998a-2_amd64.deb ...\n",
            "Unpacking tesseract-ocr (4.00~git2288-10f4998a-2) ...\n",
            "Setting up tesseract-ocr-osd (4.00~git24-0e00fe6-1.2) ...\n",
            "Setting up tesseract-ocr-eng (4.00~git24-0e00fe6-1.2) ...\n",
            "Processing triggers for man-db (2.8.3-2ubuntu0.1) ...\n",
            "Setting up tesseract-ocr (4.00~git2288-10f4998a-2) ...\n",
            "Collecting pytesseract\n",
            "  Downloading https://files.pythonhosted.org/packages/47/e5/892d78db0d26372aa376fc1b127e9cd4cc158727a76e0802069115fcbd6e/pytesseract-0.3.0.tar.gz\n",
            "Requirement already satisfied: Pillow in /usr/local/lib/python3.6/dist-packages (from pytesseract) (4.3.0)\n",
            "Requirement already satisfied: olefile in /usr/local/lib/python3.6/dist-packages (from Pillow->pytesseract) (0.46)\n",
            "Building wheels for collected packages: pytesseract\n",
            "  Building wheel for pytesseract (setup.py) ... \u001b[?25l\u001b[?25hdone\n",
            "  Created wheel for pytesseract: filename=pytesseract-0.3.0-py2.py3-none-any.whl size=20970 sha256=0efad6abdf9831f2688571ab5fc8e2b0d69bab658371c96127521f5411d97379\n",
            "  Stored in directory: /root/.cache/pip/wheels/78/c9/ac/4cb76bd547f9970070522439e5203ba7926c5c5c4f131583ea\n",
            "Successfully built pytesseract\n",
            "Installing collected packages: pytesseract\n",
            "Successfully installed pytesseract-0.3.0\n"
          ],
          "name": "stdout"
        }
      ]
    },
    {
      "cell_type": "code",
      "metadata": {
        "id": "lDTWkv5M287k",
        "colab_type": "code",
        "colab": {
          "base_uri": "https://localhost:8080/",
          "height": 185
        },
        "outputId": "0c201134-7769-4f01-94b2-ff3e725d95b9"
      },
      "source": [
        "pip install date-extractor"
      ],
      "execution_count": 3,
      "outputs": [
        {
          "output_type": "stream",
          "text": [
            "Collecting date-extractor\n",
            "  Downloading https://files.pythonhosted.org/packages/d8/c3/24c4e3367a25485d98a6e39e0d7bccf48e60a1fcb7562da185ab4ccfcfe0/date-extractor-4.0.6.tar.gz\n",
            "Requirement already satisfied: pytz in /usr/local/lib/python3.6/dist-packages (from date-extractor) (2018.9)\n",
            "Building wheels for collected packages: date-extractor\n",
            "  Building wheel for date-extractor (setup.py) ... \u001b[?25l\u001b[?25hdone\n",
            "  Created wheel for date-extractor: filename=date_extractor-4.0.6-cp36-none-any.whl size=15901 sha256=247d0ebf73709d74ccc52efb704eeb34652a638ff8c53c444a93ac3f367c6416\n",
            "  Stored in directory: /root/.cache/pip/wheels/b9/29/66/870dc575a33a0048887a4a4484203dbb76792fc140c409b037\n",
            "Successfully built date-extractor\n",
            "Installing collected packages: date-extractor\n",
            "Successfully installed date-extractor-4.0.6\n"
          ],
          "name": "stdout"
        }
      ]
    },
    {
      "cell_type": "code",
      "metadata": {
        "id": "Dar8JMI53AKC",
        "colab_type": "code",
        "colab": {
          "base_uri": "https://localhost:8080/",
          "height": 34
        },
        "outputId": "c9a7f3d7-cb19-4342-fdc0-db619d6f6f5d"
      },
      "source": [
        "pip install pytz\n"
      ],
      "execution_count": 4,
      "outputs": [
        {
          "output_type": "stream",
          "text": [
            "Requirement already satisfied: pytz in /usr/local/lib/python3.6/dist-packages (2018.9)\n"
          ],
          "name": "stdout"
        }
      ]
    },
    {
      "cell_type": "code",
      "metadata": {
        "id": "ozZWPIBw3DA_",
        "colab_type": "code",
        "colab": {}
      },
      "source": [
        "#importing packages\n",
        "import cv2\n",
        "import numpy as np\n",
        "import pytesseract\n",
        "from PIL import Image"
      ],
      "execution_count": 0,
      "outputs": []
    },
    {
      "cell_type": "code",
      "metadata": {
        "id": "Nmvv_ULB3Fpt",
        "colab_type": "code",
        "colab": {}
      },
      "source": [
        "# Path of working folder on Disk\n",
        "src_path = \"gdrive/My Drive/Colab Notebooks/Receipts\""
      ],
      "execution_count": 0,
      "outputs": []
    },
    {
      "cell_type": "code",
      "metadata": {
        "id": "tRgTnxzE3IKm",
        "colab_type": "code",
        "colab": {}
      },
      "source": [
        "def get_string(img_path):\n",
        "    # Read image with opencv\n",
        "    img = cv2.imread(img_path)"
      ],
      "execution_count": 0,
      "outputs": []
    },
    {
      "cell_type": "code",
      "metadata": {
        "id": "waR102-g3KPr",
        "colab_type": "code",
        "colab": {}
      },
      "source": [
        "# Convert to gray\n",
        "img = cv2.imread(\"gdrive/My Drive/Colab Notebooks/Receipts/ff8e6691.jpeg\")\n",
        "imgGray = cv2.cvtColor(img, cv2.COLOR_BGR2GRAY)"
      ],
      "execution_count": 0,
      "outputs": []
    },
    {
      "cell_type": "code",
      "metadata": {
        "id": "Kzo_ZrWU3MM5",
        "colab_type": "code",
        "colab": {}
      },
      "source": [
        "# Apply dilation and erosion to remove some noise\n",
        "    kernel = np.ones((1, 1), np.uint8)\n",
        "    img = cv2.dilate(img, kernel, iterations=1)\n",
        "    img = cv2.erode(img, kernel, iterations=1)"
      ],
      "execution_count": 0,
      "outputs": []
    },
    {
      "cell_type": "code",
      "metadata": {
        "id": "KQiasmTs3OWQ",
        "colab_type": "code",
        "colab": {
          "base_uri": "https://localhost:8080/",
          "height": 34
        },
        "outputId": "7b75f61a-949a-4846-fa4b-3892e36a8604"
      },
      "source": [
        "# Write image after removed noise\n",
        "    cv2.imwrite(src_path + \"removed_noise.jpeg\", img)"
      ],
      "execution_count": 24,
      "outputs": [
        {
          "output_type": "execute_result",
          "data": {
            "text/plain": [
              "True"
            ]
          },
          "metadata": {
            "tags": []
          },
          "execution_count": 24
        }
      ]
    },
    {
      "cell_type": "code",
      "metadata": {
        "id": "HYZT-YWx3Qh6",
        "colab_type": "code",
        "colab": {
          "base_uri": "https://localhost:8080/",
          "height": 34
        },
        "outputId": "e5bf9ac6-06c5-459b-b129-de91403229df"
      },
      "source": [
        "#  Apply threshold to get image with only black and white\n",
        "    #img = cv2.adaptiveThreshold(img, 255, cv2.ADAPTIVE_THRESH_GAUSSIAN_C, cv2.THRESH_BINARY, 31, 2)\n",
        "\n",
        "    # Write the image after apply opencv to do some ...\n",
        "    cv2.imwrite(src_path + \"thres.png\", img)"
      ],
      "execution_count": 25,
      "outputs": [
        {
          "output_type": "execute_result",
          "data": {
            "text/plain": [
              "True"
            ]
          },
          "metadata": {
            "tags": []
          },
          "execution_count": 25
        }
      ]
    },
    {
      "cell_type": "code",
      "metadata": {
        "id": "BdgTr4ov3Slp",
        "colab_type": "code",
        "colab": {
          "base_uri": "https://localhost:8080/",
          "height": 34
        },
        "outputId": "2c4ec7b8-a7ce-4efa-bbf6-49721350c195"
      },
      "source": [
        "# Recognize text with tesseract for python\n",
        "    result = pytesseract.image_to_string(Image.open(src_path + \"thres.png\"))\n",
        "\n",
        "    # Remove template file\n",
        "    #os.remove(temp)\n",
        "\n",
        "    result"
      ],
      "execution_count": 26,
      "outputs": [
        {
          "output_type": "execute_result",
          "data": {
            "text/plain": [
              "'TAX INVOICE\\n\\nDomino’s Pizza\\n\\n \\n\\n \\n\\nSubTot\\nT & 2.5%\\n\\n     \\n  \\n\\nDIZ} $,Ouswog\\n\\n  \\n\\n0 ;\\n| den latd he new\\n\\nDIZ} $,oujw0g'"
            ]
          },
          "metadata": {
            "tags": []
          },
          "execution_count": 26
        }
      ]
    },
    {
      "cell_type": "code",
      "metadata": {
        "id": "yueS53yS3Wak",
        "colab_type": "code",
        "colab": {
          "base_uri": "https://localhost:8080/",
          "height": 403
        },
        "outputId": "5c17173e-1d6d-4ad5-9a77-b0bd074cab08"
      },
      "source": [
        "print ('Extracting texts from the image')\n",
        "print(result)"
      ],
      "execution_count": 27,
      "outputs": [
        {
          "output_type": "stream",
          "text": [
            "Extracting texts from the image\n",
            "TAX INVOICE\n",
            "\n",
            "Domino’s Pizza\n",
            "\n",
            " \n",
            "\n",
            " \n",
            "\n",
            "SubTot\n",
            "T & 2.5%\n",
            "\n",
            "     \n",
            "  \n",
            "\n",
            "DIZ} $,Ouswog\n",
            "\n",
            "  \n",
            "\n",
            "0 ;\n",
            "| den latd he new\n",
            "\n",
            "DIZ} $,oujw0g\n"
          ],
          "name": "stdout"
        }
      ]
    },
    {
      "cell_type": "code",
      "metadata": {
        "id": "QrxGzeS-3ZI4",
        "colab_type": "code",
        "colab": {
          "base_uri": "https://localhost:8080/",
          "height": 34
        },
        "outputId": "fb5458a3-2220-4885-936a-2059acf98aae"
      },
      "source": [
        "#extracting dates from the text\n",
        "from date_extractor import extract_dates\n",
        "dates = extract_dates(result)\n",
        "dates"
      ],
      "execution_count": 28,
      "outputs": [
        {
          "output_type": "execute_result",
          "data": {
            "text/plain": [
              "[]"
            ]
          },
          "metadata": {
            "tags": []
          },
          "execution_count": 28
        }
      ]
    },
    {
      "cell_type": "code",
      "metadata": {
        "id": "O0TGvJ2Q3byo",
        "colab_type": "code",
        "colab": {
          "base_uri": "https://localhost:8080/",
          "height": 34
        },
        "outputId": "91381d24-02b9-49cd-a9e4-c6ea9ad80c54"
      },
      "source": [
        "if dates == []:\n",
        "    print(\"{“date”: null}\")\n",
        "else:\n",
        "    #extracting the Expense date from all the dates\n",
        "    extract_date = []\n",
        "    for i in dates:\n",
        "      if i:\n",
        "        Expense_date = i.strftime('%Y-%m-%d')\n",
        "        extract_date.append(Expense_date)\n",
        "    \n",
        "        print(max(extract_date))\n",
        "        print('The Expense date on the receipt is',max(extract_date))\n"
      ],
      "execution_count": 30,
      "outputs": [
        {
          "output_type": "stream",
          "text": [
            "{“date”: null}\n"
          ],
          "name": "stdout"
        }
      ]
    },
    {
      "cell_type": "code",
      "metadata": {
        "id": "sN20xkPe3wo-",
        "colab_type": "code",
        "colab": {}
      },
      "source": [
        ""
      ],
      "execution_count": 0,
      "outputs": []
    }
  ]
}