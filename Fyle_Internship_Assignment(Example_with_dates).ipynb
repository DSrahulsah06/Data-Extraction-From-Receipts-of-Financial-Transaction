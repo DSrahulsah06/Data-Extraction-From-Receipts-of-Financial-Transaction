{
  "nbformat": 4,
  "nbformat_minor": 0,
  "metadata": {
    "colab": {
      "name": "Fyle_Internship_Assignment(Example with dates).ipynb",
      "provenance": [],
      "include_colab_link": true
    },
    "kernelspec": {
      "name": "python3",
      "display_name": "Python 3"
    }
  },
  "cells": [
    {
      "cell_type": "markdown",
      "metadata": {
        "id": "view-in-github",
        "colab_type": "text"
      },
      "source": [
        "<a href=\"https://colab.research.google.com/github/DSrahulsah06/Data-Extraction-From-Receipts-of-Financial-Transaction/blob/master/Fyle_Internship_Assignment(Example_with_dates).ipynb\" target=\"_parent\"><img src=\"https://colab.research.google.com/assets/colab-badge.svg\" alt=\"Open In Colab\"/></a>"
      ]
    },
    {
      "cell_type": "code",
      "metadata": {
        "id": "holvt5zkt2bC",
        "colab_type": "code",
        "outputId": "4f117f20-aca6-4a60-c568-01199b808bac",
        "colab": {
          "base_uri": "https://localhost:8080/",
          "height": 121
        }
      },
      "source": [
        "from google.colab import drive\n",
        "\n",
        "drive.mount('/content/gdrive')"
      ],
      "execution_count": 1,
      "outputs": [
        {
          "output_type": "stream",
          "text": [
            "Go to this URL in a browser: https://accounts.google.com/o/oauth2/auth?client_id=947318989803-6bn6qk8qdgf4n4g3pfee6491hc0brc4i.apps.googleusercontent.com&redirect_uri=urn%3aietf%3awg%3aoauth%3a2.0%3aoob&response_type=code&scope=email%20https%3a%2f%2fwww.googleapis.com%2fauth%2fdocs.test%20https%3a%2f%2fwww.googleapis.com%2fauth%2fdrive%20https%3a%2f%2fwww.googleapis.com%2fauth%2fdrive.photos.readonly%20https%3a%2f%2fwww.googleapis.com%2fauth%2fpeopleapi.readonly\n",
            "\n",
            "Enter your authorization code:\n",
            "··········\n",
            "Mounted at /content/gdrive\n"
          ],
          "name": "stdout"
        }
      ]
    },
    {
      "cell_type": "markdown",
      "metadata": {
        "id": "4C8MQfqquNFx",
        "colab_type": "text"
      },
      "source": [
        "## Data Extraction - Remote Assignment\n",
        "\n",
        "Expense date (also called spend date) is the exact date on which a financial transaction or operation has happened and must be recognized in the accounting system. \n"
      ]
    },
    {
      "cell_type": "code",
      "metadata": {
        "id": "uYnkdRlUufDe",
        "colab_type": "code",
        "outputId": "0bcd8c35-b8d8-41cb-87ed-5d10fcfe7ebf",
        "colab": {
          "base_uri": "https://localhost:8080/",
          "height": 151
        }
      },
      "source": [
        "#installing the required packages \n",
        "!sudo apt install tesseract-ocr\n",
        "!pip install pytesseract\n"
      ],
      "execution_count": 33,
      "outputs": [
        {
          "output_type": "stream",
          "text": [
            "Reading package lists... Done\n",
            "Building dependency tree       \n",
            "Reading state information... Done\n",
            "tesseract-ocr is already the newest version (4.00~git2288-10f4998a-2).\n",
            "0 upgraded, 0 newly installed, 0 to remove and 29 not upgraded.\n",
            "Requirement already satisfied: pytesseract in /usr/local/lib/python3.6/dist-packages (0.3.0)\n",
            "Requirement already satisfied: Pillow in /usr/local/lib/python3.6/dist-packages (from pytesseract) (4.3.0)\n",
            "Requirement already satisfied: olefile in /usr/local/lib/python3.6/dist-packages (from Pillow->pytesseract) (0.46)\n"
          ],
          "name": "stdout"
        }
      ]
    },
    {
      "cell_type": "code",
      "metadata": {
        "id": "kP23V9D0sxcR",
        "colab_type": "code",
        "colab": {
          "base_uri": "https://localhost:8080/",
          "height": 50
        },
        "outputId": "9aa4ee3a-92cd-4015-ed2b-a51c0c488aec"
      },
      "source": [
        "pip install date-extractor"
      ],
      "execution_count": 34,
      "outputs": [
        {
          "output_type": "stream",
          "text": [
            "Requirement already satisfied: date-extractor in /usr/local/lib/python3.6/dist-packages (4.0.6)\n",
            "Requirement already satisfied: pytz in /usr/local/lib/python3.6/dist-packages (from date-extractor) (2018.9)\n"
          ],
          "name": "stdout"
        }
      ]
    },
    {
      "cell_type": "code",
      "metadata": {
        "id": "RrodH_bgs2Wv",
        "colab_type": "code",
        "colab": {
          "base_uri": "https://localhost:8080/",
          "height": 34
        },
        "outputId": "1cb653e5-1506-4433-91d9-7b728730c553"
      },
      "source": [
        "pip install pytz\n"
      ],
      "execution_count": 35,
      "outputs": [
        {
          "output_type": "stream",
          "text": [
            "Requirement already satisfied: pytz in /usr/local/lib/python3.6/dist-packages (2018.9)\n"
          ],
          "name": "stdout"
        }
      ]
    },
    {
      "cell_type": "code",
      "metadata": {
        "id": "biiaMfsit6IB",
        "colab_type": "code",
        "colab": {}
      },
      "source": [
        "#importing packages\n",
        "import cv2\n",
        "import numpy as np\n",
        "import pytesseract\n",
        "from PIL import Image\n",
        "\n"
      ],
      "execution_count": 0,
      "outputs": []
    },
    {
      "cell_type": "code",
      "metadata": {
        "id": "IPUWyYTpuNPt",
        "colab_type": "code",
        "colab": {}
      },
      "source": [
        "# Path of working folder on Disk\n",
        "src_path = \"gdrive/My Drive/Colab Notebooks/Receipts\""
      ],
      "execution_count": 0,
      "outputs": []
    },
    {
      "cell_type": "code",
      "metadata": {
        "id": "1lkeOCnTxZPf",
        "colab_type": "code",
        "colab": {}
      },
      "source": [
        "def get_string(img_path):\n",
        "    # Read image with opencv\n",
        "    img = cv2.imread(img_path)"
      ],
      "execution_count": 0,
      "outputs": []
    },
    {
      "cell_type": "code",
      "metadata": {
        "id": "mCpd-xxoxwO6",
        "colab_type": "code",
        "colab": {}
      },
      "source": [
        "# Convert to gray\n",
        "img = cv2.imread(\"gdrive/My Drive/Colab Notebooks/Receipts/fdaae374.jpeg\")\n",
        "imgGray = cv2.cvtColor(img, cv2.COLOR_BGR2GRAY)\n",
        "\n"
      ],
      "execution_count": 0,
      "outputs": []
    },
    {
      "cell_type": "code",
      "metadata": {
        "id": "i50jFmsHx4c-",
        "colab_type": "code",
        "colab": {}
      },
      "source": [
        " # Apply dilation and erosion to remove some noise\n",
        "    kernel = np.ones((1, 1), np.uint8)\n",
        "    img = cv2.dilate(img, kernel, iterations=1)\n",
        "    img = cv2.erode(img, kernel, iterations=1)"
      ],
      "execution_count": 0,
      "outputs": []
    },
    {
      "cell_type": "code",
      "metadata": {
        "id": "Fi7Vstdlymc3",
        "colab_type": "code",
        "outputId": "4f49394d-b841-409c-f667-39f77c073dee",
        "colab": {
          "base_uri": "https://localhost:8080/",
          "height": 34
        }
      },
      "source": [
        "# Write image after removed noise\n",
        "    cv2.imwrite(src_path + \"removed_noise.jpeg\", img)"
      ],
      "execution_count": 89,
      "outputs": [
        {
          "output_type": "execute_result",
          "data": {
            "text/plain": [
              "True"
            ]
          },
          "metadata": {
            "tags": []
          },
          "execution_count": 89
        }
      ]
    },
    {
      "cell_type": "code",
      "metadata": {
        "id": "ZNQaHYfDyshj",
        "colab_type": "code",
        "outputId": "c6a312cc-3ef0-4f8d-d2f9-990a5015bd5a",
        "colab": {
          "base_uri": "https://localhost:8080/",
          "height": 34
        }
      },
      "source": [
        "#  Apply threshold to get image with only black and white\n",
        "    #img = cv2.adaptiveThreshold(img, 255, cv2.ADAPTIVE_THRESH_GAUSSIAN_C, cv2.THRESH_BINARY, 31, 2)\n",
        "\n",
        "    # Write the image after apply opencv to do some ...\n",
        "    cv2.imwrite(src_path + \"thres.png\", img)"
      ],
      "execution_count": 90,
      "outputs": [
        {
          "output_type": "execute_result",
          "data": {
            "text/plain": [
              "True"
            ]
          },
          "metadata": {
            "tags": []
          },
          "execution_count": 90
        }
      ]
    },
    {
      "cell_type": "code",
      "metadata": {
        "id": "GbIe7GD1y5Sx",
        "colab_type": "code",
        "outputId": "d114e904-f8ab-48bc-995a-96a08a8f5a93",
        "colab": {
          "base_uri": "https://localhost:8080/",
          "height": 54
        }
      },
      "source": [
        "# Recognize text with tesseract for python\n",
        "    result = pytesseract.image_to_string(Image.open(src_path + \"thres.png\"))\n",
        "\n",
        "    # Remove template file\n",
        "    #os.remove(temp)\n",
        "\n",
        "    result"
      ],
      "execution_count": 91,
      "outputs": [
        {
          "output_type": "execute_result",
          "data": {
            "text/plain": [
              "'———eewOee\\nWITASU JAPANESE RESTAURANT SDN BHD\\nB-01,CENTRAL PLAZA,\\n34, JALAN SULTAN ISMAIL,\\n§0250 KUALA LUNPUR\\nTEL 03-2110 2833\\n(GST Rea. No : 001774428160)\\nTax Invoice\\nTable D2\\nBi 11#;VO01-201060 Odr No; 199535\\nDate ; 29-06-2018 19:59:15\\n\\nCashier\\n\\n    \\n \\n\\nQty Description\\n\\n \\n\\n \\n\\nSubtotal: 709.50\\nSery. Charge (10%): 70.95\\nGST Payable (0%): 0,00\\nTotal: 780.45\\nTOTAL: 780.45\\nClosed: 001 29-06-2018 21:52:03\\nServer: AARON\\n\\n780.45\\n\\nVISA\\n= peHOEHIOI2\\n~ LIM CHAT JA\\n\\ner'"
            ]
          },
          "metadata": {
            "tags": []
          },
          "execution_count": 91
        }
      ]
    },
    {
      "cell_type": "code",
      "metadata": {
        "id": "PxTQ9aksy_G3",
        "colab_type": "code",
        "outputId": "d1066c92-6d87-4a50-c0e7-c9badf3e0528",
        "colab": {
          "base_uri": "https://localhost:8080/",
          "height": 672
        }
      },
      "source": [
        "print ('Extracting texts from the image')\n",
        "print(result)"
      ],
      "execution_count": 92,
      "outputs": [
        {
          "output_type": "stream",
          "text": [
            "Extracting texts from the image\n",
            "———eewOee\n",
            "WITASU JAPANESE RESTAURANT SDN BHD\n",
            "B-01,CENTRAL PLAZA,\n",
            "34, JALAN SULTAN ISMAIL,\n",
            "§0250 KUALA LUNPUR\n",
            "TEL 03-2110 2833\n",
            "(GST Rea. No : 001774428160)\n",
            "Tax Invoice\n",
            "Table D2\n",
            "Bi 11#;VO01-201060 Odr No; 199535\n",
            "Date ; 29-06-2018 19:59:15\n",
            "\n",
            "Cashier\n",
            "\n",
            "    \n",
            " \n",
            "\n",
            "Qty Description\n",
            "\n",
            " \n",
            "\n",
            " \n",
            "\n",
            "Subtotal: 709.50\n",
            "Sery. Charge (10%): 70.95\n",
            "GST Payable (0%): 0,00\n",
            "Total: 780.45\n",
            "TOTAL: 780.45\n",
            "Closed: 001 29-06-2018 21:52:03\n",
            "Server: AARON\n",
            "\n",
            "780.45\n",
            "\n",
            "VISA\n",
            "= peHOEHIOI2\n",
            "~ LIM CHAT JA\n",
            "\n",
            "er\n"
          ],
          "name": "stdout"
        }
      ]
    },
    {
      "cell_type": "code",
      "metadata": {
        "id": "qUICtJZewZua",
        "colab_type": "code",
        "colab": {
          "base_uri": "https://localhost:8080/",
          "height": 252
        },
        "outputId": "c2832082-0631-461a-c6d8-c172749e5340"
      },
      "source": [
        "#extracting dates from the text\n",
        "from date_extractor import extract_dates\n",
        "dates = extract_dates(result)\n",
        "dates"
      ],
      "execution_count": 93,
      "outputs": [
        {
          "output_type": "execute_result",
          "data": {
            "text/plain": [
              "[datetime.datetime(2011, 2, 3, 0, 0, tzinfo=<UTC>),\n",
              " datetime.datetime(2001, 2, 1, 0, 0, tzinfo=<UTC>),\n",
              " datetime.datetime(1995, 3, 5, 0, 0, tzinfo=<UTC>),\n",
              " datetime.datetime(2018, 6, 29, 0, 0, tzinfo=<UTC>),\n",
              " datetime.datetime(1959, 1, 5, 0, 0, tzinfo=<UTC>),\n",
              " datetime.datetime(1950, 7, 9, 0, 0, tzinfo=<UTC>),\n",
              " datetime.datetime(1970, 9, 5, 0, 0, tzinfo=<UTC>),\n",
              " datetime.datetime(2001, 2, 6, 0, 0, tzinfo=<UTC>),\n",
              " datetime.datetime(1934, 1, 1, 0, 0, tzinfo=<UTC>),\n",
              " datetime.datetime(2010, 1, 1, 0, 0, tzinfo=<UTC>),\n",
              " datetime.datetime(1945, 1, 1, 0, 0, tzinfo=<UTC>),\n",
              " datetime.datetime(1945, 1, 1, 0, 0, tzinfo=<UTC>),\n",
              " datetime.datetime(1929, 1, 1, 0, 0, tzinfo=<UTC>),\n",
              " datetime.datetime(1945, 1, 1, 0, 0, tzinfo=<UTC>)]"
            ]
          },
          "metadata": {
            "tags": []
          },
          "execution_count": 93
        }
      ]
    },
    {
      "cell_type": "code",
      "metadata": {
        "id": "HrFm-4p0ylia",
        "colab_type": "code",
        "colab": {
          "base_uri": "https://localhost:8080/",
          "height": 252
        },
        "outputId": "908d983e-9c73-4955-de37-3379da26de23"
      },
      "source": [
        "if dates == []:\n",
        "    print(\"{“date”: null}\")\n",
        "else:\n",
        "    #extracting the Expense date from all the dates\n",
        "    extract_date = []\n",
        "    for i in dates:\n",
        "      if i:\n",
        "        Expense_date = i.strftime('%Y-%m-%d')\n",
        "        extract_date.append(Expense_date)\n",
        "    \n",
        "        print(max(extract_date))"
      ],
      "execution_count": 94,
      "outputs": [
        {
          "output_type": "stream",
          "text": [
            "2011-02-03\n",
            "2011-02-03\n",
            "2011-02-03\n",
            "2018-06-29\n",
            "2018-06-29\n",
            "2018-06-29\n",
            "2018-06-29\n",
            "2018-06-29\n",
            "2018-06-29\n",
            "2018-06-29\n",
            "2018-06-29\n",
            "2018-06-29\n",
            "2018-06-29\n",
            "2018-06-29\n"
          ],
          "name": "stdout"
        }
      ]
    },
    {
      "cell_type": "code",
      "metadata": {
        "id": "dlDZ4z09AQtS",
        "colab_type": "code",
        "colab": {
          "base_uri": "https://localhost:8080/",
          "height": 34
        },
        "outputId": "91ada784-c220-4c7f-9363-3a836b0382bf"
      },
      "source": [
        "print('The Expense date on the receipt is',max(extract_date))"
      ],
      "execution_count": 96,
      "outputs": [
        {
          "output_type": "stream",
          "text": [
            "The Expense date on the receipt is 2018-06-29\n"
          ],
          "name": "stdout"
        }
      ]
    },
    {
      "cell_type": "code",
      "metadata": {
        "id": "5I-mXneOtU3T",
        "colab_type": "code",
        "colab": {}
      },
      "source": [
        ""
      ],
      "execution_count": 0,
      "outputs": []
    }
  ]
}